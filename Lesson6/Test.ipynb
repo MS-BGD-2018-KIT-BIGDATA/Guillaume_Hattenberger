{
 "cells": [
  {
   "cell_type": "markdown",
   "metadata": {},
   "source": [
    "# Exercice 1. (Expérience de Galton)\n",
    "<span style=\"color:red\"> Afin d'éviter toute remarque inutile sur le respect PEP8 je précise à mon aimable correcteur que chaque cellule a fait l'objet de la correction automatique PEP8 via le plugin notebook. MERCI :)\n"
   ]
  },
  {
   "cell_type": "markdown",
   "metadata": {},
   "source": [
    "## 1) Récupérer les données du fichier\n"
   ]
  },
  {
   "cell_type": "code",
   "execution_count": 2,
   "metadata": {
    "collapsed": true
   },
   "outputs": [],
   "source": [
    "###\n",
    "# Import librairy\n",
    "###\n",
    "\n",
    "%matplotlib inline\n",
    "import math                         # import a package\n",
    "import numpy as np                  # import a package with specified name\n",
    "from sklearn import linear_model    # import whole module\n",
    "from os import mkdir, rmdir, path   # import a function\n",
    "from inspect import getsourcelines  # get function source code\n",
    "import random\n",
    "import string\n",
    "import time\n",
    "import pandas as pd\n",
    "import urllib\n",
    "import zipfile\n",
    "import matplotlib.pyplot as plt     # for plots\n",
    "import seaborn as sns               # for plots\n",
    "import sys\n",
    "import scipy\n",
    "import sklearn.preprocessing\n",
    "from sklearn import preprocessing"
   ]
  },
  {
   "cell_type": "code",
   "execution_count": 19,
   "metadata": {
    "scrolled": true
   },
   "outputs": [
    {
     "name": "stdout",
     "output_type": "stream",
     "text": [
      "  Family  Father  Mother Gender  Height  Kids\n",
      "0      1   199.0   170.0      M   186.0     4\n",
      "1      1   199.0   170.0      F   176.0     4\n",
      "2      1   199.0   170.0      F   175.0     4\n",
      "0    M\n",
      "1    F\n",
      "2    F\n",
      "Name: Gender, dtype: object\n",
      "0    1\n",
      "1    1\n",
      "2    1\n",
      "Name: Gender, dtype: object\n",
      "  Family  Father  Mother Gender  Height  Kids\n",
      "0      1   199.0   170.0      M   186.0     4\n",
      "1      1   199.0   170.0      F   176.0     4\n",
      "2      1   199.0   170.0      F   175.0     4\n"
     ]
    }
   ],
   "source": [
    "# Paramètres\n",
    "filename = \"Galton\"\n",
    "df = pd.read_csv(filename + '.txt', sep='\\t')\n",
    "\n",
    "# Convertir en cm et arrondir\n",
    "df[['Father', 'Mother', 'Height']] *= 2.54\n",
    "df = df.round({'Father': 0, 'Mother': 0, 'Height': 0})\n",
    "\n",
    "# Affichage Test\n",
    "print(df.head(3))\n",
    "\n",
    "\n",
    "df3 = df[\"Gender\"].str.upper()\n",
    "print(df3.head(3))\n",
    "# Affichage Test\n",
    "\n",
    "df3[df3==df3] = 1\n",
    "\n",
    "print(df3.head(3))\n",
    "\n",
    "print(df.head(3))"
   ]
  },
  {
   "cell_type": "markdown",
   "metadata": {
    "collapsed": true
   },
   "source": [
    "## 2) Identifier les données manquantes "
   ]
  },
  {
   "cell_type": "code",
   "execution_count": 29,
   "metadata": {},
   "outputs": [
    {
     "name": "stdout",
     "output_type": "stream",
     "text": [
      "Y a t-il des données manquantes ? False\n",
      "Il y 898 données dans cette base\n"
     ]
    }
   ],
   "source": [
    "# Test sur les dimension avec et sans drop\n",
    "print(\"Y a t-il des données manquantes ?\",\n",
    "      df.shape[0] != df.dropna(how='any').shape[0])\n",
    "print(\"Il y %s données dans cette base\" % df.shape[0])"
   ]
  },
  {
   "cell_type": "markdown",
   "metadata": {},
   "source": [
    "### 3) Afficher sur un même graphe un estimateur de la densité de la population des pères en bleu, et de celles des mères en orange"
   ]
  },
  {
   "cell_type": "code",
   "execution_count": 30,
   "metadata": {},
   "outputs": [
    {
     "data": {
      "image/png": "[encoded data removed]",
      "text/plain": [
       "<matplotlib.figure.Figure at 0x7fa07ec49390>"
      ]
     },
     "metadata": {},
     "output_type": "display_data"
    }
   ],
   "source": [
    "# On évite que les parents de famille nombreuse comptent plusieurs fois en faisant un groupeBY + mean ou max ou min etc\n",
    "df_groupe = df.groupby('Family').mean()\n",
    "\n",
    "# Légendes\n",
    "fig, ax = plt.subplots()\n",
    "ax.set_xlabel(\"Taille (cm)\")\n",
    "ax.set_ylabel(\"Distribution\")\n",
    "\n",
    "# Représentation à Noyau\n",
    "fig = sns.kdeplot(df_groupe['Father'], shade=True, color=\"blue\")\n",
    "fig = sns.kdeplot(df_groupe['Mother'], shade=True, color=\"orange\")\n",
    "fig.figure.suptitle(\"Densité à noyau des tailles des parents\", fontsize=16)\n",
    "\n",
    "plt.show()"
   ]
  },
  {
   "cell_type": "markdown",
   "metadata": {},
   "source": [
    "## 4) Afficher la taille du père en fonction de la taille de la mère pour les n observations figurant dans les données. \n"
   ]
  },
  {
   "cell_type": "code",
   "execution_count": 31,
   "metadata": {},
   "outputs": [
    {
     "data": {
      "image/png": "[encoded data removed]",
      "text/plain": [
       "<matplotlib.figure.Figure at 0x7fa07deb08d0>"
      ]
     },
     "metadata": {},
     "output_type": "display_data"
    }
   ],
   "source": [
    "# Modèle de régression linéaire\n",
    "lr_F_from_M = linear_model.LinearRegression(fit_intercept=True)\n",
    "lr_F_from_M.fit(df_groupe['Mother'].values.reshape(-1, 1),\n",
    "                df_groupe['Father'].values.reshape(-1, 1))\n",
    "\n",
    "# Légendes\n",
    "fig, ax = plt.subplots()\n",
    "ax.set_xlabel(\"Taille de la mère (cm)\")\n",
    "ax.set_ylabel(\"Taille du père (cm)\")\n",
    "plt.title(\"Taille du père fonction de la taille de la mère\")\n",
    "\n",
    "# Représentation\n",
    "fig = plt.scatter(df_groupe['Mother'], df_groupe['Father'])\n",
    "plt.plot(df_groupe['Mother'], lr_F_from_M.predict(\n",
    "    df_groupe['Mother'].values.reshape(-1, 1)), color=\"red\", label=\"droite de régression\")\n",
    "\n",
    "\n",
    "plt.legend()\n",
    "plt.show()"
   ]
  },
  {
   "cell_type": "markdown",
   "metadata": {},
   "source": [
    "## 5) Afficher un histogramme du nombre d'enfants par famille."
   ]
  },
  {
   "cell_type": "code",
   "execution_count": 32,
   "metadata": {},
   "outputs": [
    {
     "data": {
      "image/png": "[encoded data removed]",
      "text/plain": [
       "<matplotlib.figure.Figure at 0x7fa07a3658d0>"
      ]
     },
     "metadata": {},
     "output_type": "display_data"
    }
   ],
   "source": [
    "# Légende\n",
    "fig, ax = plt.subplots()\n",
    "ax.set_xlabel(\"Nb enfants\")\n",
    "ax.set_ylabel(\"Occurrences\")\n",
    "plt.title(\"Nombre d'enfant par famille\")\n",
    "\n",
    "# Représentation\n",
    "plt.hist(df_groupe['Kids'], label=\"Nombre d'enfants\")\n",
    "\n",
    "plt.legend()\n",
    "plt.show()"
   ]
  },
  {
   "cell_type": "markdown",
   "metadata": {},
   "source": [
    "## 6) Créer une colonne supplémentaire appelée 'MidParents' qui contient la taille du parent moyen, et valant ('Father'+ 1.08 * 'Mother')/2.\n"
   ]
  },
  {
   "cell_type": "code",
   "execution_count": 33,
   "metadata": {},
   "outputs": [
    {
     "name": "stdout",
     "output_type": "stream",
     "text": [
      "  Family  Father  Mother Gender  Height  Kids  MidParents\n",
      "0      1   199.0   170.0      M   186.0     4       191.0\n",
      "1      1   199.0   170.0      F   176.0     4       191.0\n",
      "2      1   199.0   170.0      F   175.0     4       191.0\n"
     ]
    }
   ],
   "source": [
    "# Création de la colonne supplémentaire\n",
    "df['MidParents'] = (df['Father'] + 1.08 * df['Mother']) / 2\n",
    "df = df.round({'MidParents': 0})\n",
    "\n",
    "# Affichae Test\n",
    "print(df.head(3))"
   ]
  },
  {
   "cell_type": "markdown",
   "metadata": {},
   "source": [
    "## 7) Estimer θ0, θ1, par θ^0, θ^1 en utilisant la fonction LinearRegression de sklearn"
   ]
  },
  {
   "cell_type": "code",
   "execution_count": 34,
   "metadata": {},
   "outputs": [
    {
     "name": "stdout",
     "output_type": "stream",
     "text": [
      "La valeur Téta 1 du modèle est elle égale à la valeur calculée numériquement : True\n",
      "La valeur Téta 0 du modèle est elle égale à la valeur calculée numériquement : True\n"
     ]
    }
   ],
   "source": [
    "# Modèle de régression\n",
    "lr_height_from_MDI = linear_model.LinearRegression(fit_intercept=True)\n",
    "lr_height_from_MDI.fit(df['MidParents'].values.reshape(-1, 1),\n",
    "                       df['Height'].values.reshape(-1, 1))\n",
    "\n",
    "# Moyenne empirique\n",
    "x_mean = df['MidParents'].mean()\n",
    "y_mean = df['Height'].mean()\n",
    "\n",
    "# Teta 0 et Teta1\n",
    "teta_1 = ((df['MidParents'] - x_mean) * (df['Height'] - y_mean)).sum()\n",
    "teta_1 /= ((df['MidParents'] - x_mean) * (df['MidParents'] - x_mean)).sum()\n",
    "\n",
    "teta_0 = y_mean - teta_1 * x_mean\n",
    "\n",
    "# Verification numériques :\n",
    "print(\"La valeur Téta 1 du modèle est elle égale à la valeur calculée numériquement :\",\n",
    "      np.isclose(lr_height_from_MDI.coef_, teta_1)[0][0])\n",
    "print(\"La valeur Téta 0 du modèle est elle égale à la valeur calculée numériquement :\", np.isclose(\n",
    "    lr_height_from_MDI.intercept_, teta_0)[0])"
   ]
  },
  {
   "cell_type": "markdown",
   "metadata": {},
   "source": [
    "## 8) Calculer et visualiser les valeurs préditessur le même graphique\n",
    "On affichera de couleurs différentes les données correspondant aux garçons et celles correspondant aux filles"
   ]
  },
  {
   "cell_type": "code",
   "execution_count": 35,
   "metadata": {},
   "outputs": [
    {
     "data": {
      "image/png": "[encoded data removed]",
      "text/plain": [
       "<matplotlib.figure.Figure at 0x7fa07a436da0>"
      ]
     },
     "metadata": {},
     "output_type": "display_data"
    }
   ],
   "source": [
    "# Légende\n",
    "fig, ax = plt.subplots()\n",
    "ax.set_xlabel(\"Taille en cm du parent moyenne\")\n",
    "ax.set_ylabel(\"Taille en cm de l'enfant\")\n",
    "plt.title(\"Taille de l'enfant en fonction de la taille du parent moyen\")\n",
    "\n",
    "\n",
    "# Représentation\n",
    "plt.scatter(df[df['Gender'] == 'M']['MidParents'],\n",
    "            df[df['Gender'] == 'M']['Height'], color='blue', label=\"Garçons\")\n",
    "plt.scatter(df[df['Gender'] == 'F']['MidParents'],\n",
    "            df[df['Gender'] == 'F']['Height'], color='orange', label=\"Filles\")\n",
    "# Prédictions\n",
    "plt.plot(df['MidParents'], lr_height_from_MDI.predict(\n",
    "    df['MidParents'].values.reshape(-1, 1)), color=\"red\", label=\"Droite de régression\")\n",
    "\n",
    "\n",
    "plt.legend()\n",
    "plt.show()"
   ]
  },
  {
   "cell_type": "markdown",
   "metadata": {},
   "source": [
    "## 9) Visualiser un estimateur de la densité des résidus ri.\n",
    "L'hypothèse de normalité est-elle crédible selon vous ? "
   ]
  },
  {
   "cell_type": "code",
   "execution_count": 36,
   "metadata": {},
   "outputs": [
    {
     "data": {
      "image/png": "[encoded data removed]",
      "text/plain": [
       "<matplotlib.figure.Figure at 0x7fa07a365438>"
      ]
     },
     "metadata": {},
     "output_type": "display_data"
    }
   ],
   "source": [
    "# Calcul des résidus\n",
    "residus = df['Height'] - lr_height_from_MDI.predict(df['MidParents'].values.reshape(-1, 1)).flatten()\n",
    "\n",
    "# Représentation\n",
    "fig = sns.kdeplot(residus, shade=True, color=\"red\")\n",
    "fig.figure.suptitle(\"Densité à noyau des résidus\")\n",
    "plt.xlabel('Résidus')\n",
    "plt.ylabel('Distribution')\n",
    "\n",
    "plt.show()"
   ]
  },
  {
   "cell_type": "markdown",
   "metadata": {},
   "source": [
    "L'hypothèse de la normalité n'est pas crédible en l'état tous sexes confondus. En effet, la densité des résidus n'approche pas une gaussienne."
   ]
  },
  {
   "cell_type": "markdown",
   "metadata": {},
   "source": [
    "### Calculer ensuite αg (resp. αf ) les proportions de garçons (resp.de filles) dans la population. "
   ]
  },
  {
   "cell_type": "code",
   "execution_count": 37,
   "metadata": {
    "scrolled": true
   },
   "outputs": [
    {
     "name": "stdout",
     "output_type": "stream",
     "text": [
      "Vérification Pop Homme + Prop Femme = 1 : True\n"
     ]
    },
    {
     "data": {
      "image/png": "[encoded data removed]",
      "text/plain": [
       "<matplotlib.figure.Figure at 0x7fa0b96b7f28>"
      ]
     },
     "metadata": {},
     "output_type": "display_data"
    }
   ],
   "source": [
    "# Split des dataframes par Hommes et Femmes\n",
    "df_g = df[df['Gender'] == 'M']\n",
    "df_f = df[df['Gender'] == 'F']\n",
    "\n",
    "# Calcul des proportions\n",
    "alpha_g = df_g.shape[0] / df.shape[0]\n",
    "alpha_f = df_f.shape[0] / df.shape[0]\n",
    "\n",
    "print(\"Vérification Pop Homme + Prop Femme = 1 :\",\n",
    "      np.isclose(1, (alpha_g + alpha_f)))\n",
    "\n",
    "# Calcul des résidus par sexe\n",
    "residu_g = (df_g['Height'] - lr_height_from_MDI.predict(\n",
    "    df_g['MidParents'].values.reshape(-1, 1)).flatten())\n",
    "\n",
    "residu_f = (df_f['Height'] - lr_height_from_MDI.predict(\n",
    "    df_f['MidParents'].values.reshape(-1, 1)).flatten())\n",
    "\n",
    "# Calcul des densités de probabilités par sexe\n",
    "kde_g = scipy.stats.gaussian_kde(residu_g)\n",
    "kde_f = scipy.stats.gaussian_kde(residu_f)\n",
    "kde_global = scipy.stats.gaussian_kde(residus)\n",
    "\n",
    "\n",
    "# Légendes\n",
    "fig, ax = plt.subplots()\n",
    "ax.set_xlabel(\"Taille (cm)\")\n",
    "ax.set_ylabel(\"Distribution\")\n",
    "plt.title(\"Taille de l'enfant en fonction de la taille de chaque parent\")\n",
    "\n",
    "# Représentation\n",
    "x = range(-30, 30, 1)\n",
    "plt.plot(x, kde_g(x) * alpha_g, color=\"blue\", label=\"Père\")\n",
    "plt.plot(x, kde_f(x) * alpha_f, color=\"orange\", label=\"Mère\")\n",
    "plt.plot(x, kde_global(x), color=\"red\", label=\"Les Deux\")\n",
    "\n",
    "plt.legend()\n",
    "plt.show()"
   ]
  },
  {
   "cell_type": "markdown",
   "metadata": {},
   "source": [
    "En revanche en séparant les résidus par sexe on remarque que ces derniers suivent bien chacun des densités gaussiennes. L'hypothèse de la normalité par sexe semble crédible."
   ]
  },
  {
   "cell_type": "markdown",
   "metadata": {},
   "source": [
    "## 10) Régresser cette fois les xi sur les yi (et non plus les yi sur les xi). "
   ]
  },
  {
   "cell_type": "code",
   "execution_count": 38,
   "metadata": {},
   "outputs": [
    {
     "name": "stdout",
     "output_type": "stream",
     "text": [
      "Le coefficient alphaO depuis le modèle vaut : 149.054766045\n",
      "Le coefficient alpha1 depuis le modèle vaut : 0.158098522317\n"
     ]
    }
   ],
   "source": [
    "# Régression linéaire des tailles des parents moyen depuis la taille des enfants\n",
    "lr_MDI_from_Height = linear_model.LinearRegression()\n",
    "lr_MDI_from_Height.fit(df['Height'].values.reshape(-1, 1),\n",
    "                       df['MidParents'].values.reshape(-1, 1))\n",
    "\n",
    "print(\"Le coefficient alphaO depuis le modèle vaut :\",\n",
    "      lr_MDI_from_Height.intercept_[0])\n",
    "print(\"Le coefficient alpha1 depuis le modèle vaut :\",\n",
    "      lr_MDI_from_Height.coef_[0][0])"
   ]
  },
  {
   "cell_type": "code",
   "execution_count": 39,
   "metadata": {},
   "outputs": [
    {
     "name": "stdout",
     "output_type": "stream",
     "text": [
      "Le coefficient alphaO depuis le calcul numérique vaut : 149.05476604477343\n",
      "Le coefficient alpha1 depuis le calcul numérique vaut : 0.15809852231740423\n",
      "\n",
      "Le coef. alpha0 du modèle est il égal à celui du calcul numérique : True\n",
      "Le coef. alpha0 du modèle est il égal à celui du calcul numérique : True\n"
     ]
    }
   ],
   "source": [
    "# Par la méthode numérique\n",
    "X = df['MidParents']\n",
    "Y = df['Height']\n",
    "\n",
    "var_x = X.var()\n",
    "var_y = Y.var()\n",
    "\n",
    "var_x2 = ((X - X.mean()) * (X - X.mean())).sum()\n",
    "var_y2 = ((Y - Y.mean()) * (Y - Y.mean())).sum()\n",
    "\n",
    "var_x = var_x2\n",
    "var_y = var_y2\n",
    "\n",
    "var_xy = var_x / var_y\n",
    "\n",
    "alpha_O = X.mean() + (Y.mean() * var_x * (teta_0 - Y.mean())) / (X.mean() * var_y)\n",
    "alpha_1 = teta_1 * var_x / var_y\n",
    "\n",
    "print(\"Le coefficient alphaO depuis le calcul numérique vaut :\", alpha_O)\n",
    "print(\"Le coefficient alpha1 depuis le calcul numérique vaut :\", alpha_1)\n",
    "\n",
    "print(\"\\nLe coef. alpha0 du modèle est il égal à celui du calcul numérique :\",\n",
    "      np.isclose(alpha_O, lr_MDI_from_Height.intercept_[0]))\n",
    "print(\"Le coef. alpha0 du modèle est il égal à celui du calcul numérique :\",\n",
    "      np.isclose(alpha_1, lr_MDI_from_Height.coef_[0][0]))"
   ]
  },
  {
   "cell_type": "markdown",
   "metadata": {},
   "source": [
    "On retrouve bien les mêmes valeurs"
   ]
  },
  {
   "cell_type": "markdown",
   "metadata": {
    "collapsed": true
   },
   "source": [
    "# Exercice 2. (Analyse du jeu de données auto-mpg)"
   ]
  },
  {
   "cell_type": "markdown",
   "metadata": {},
   "source": [
    "## 11) Importer les données"
   ]
  },
  {
   "cell_type": "code",
   "execution_count": 40,
   "metadata": {
    "collapsed": true
   },
   "outputs": [],
   "source": [
    "# Paramètres\n",
    "filename = \"auto-mpg.data-original\"\n",
    "columns = [\"mpg\", \"cylinders\", \"displacement\", \"horsepower\",\n",
    "           \"weight\", \"acceleration\", \"model_year\", \"origin\", \"car_name\"]\n",
    "\n",
    "# Création du dataframe\n",
    "df_car = pd.read_csv(filename + '.txt', sep=r\"\\s+\", names=columns)"
   ]
  },
  {
   "cell_type": "markdown",
   "metadata": {},
   "source": [
    "Y a-t-il un marqueur utilisé p our  les données manquantes dans le fichier utilisé    ? Oui des valeurs de type 'NA'"
   ]
  },
  {
   "cell_type": "code",
   "execution_count": 41,
   "metadata": {},
   "outputs": [
    {
     "name": "stdout",
     "output_type": "stream",
     "text": [
      "Nombre de valeurs manquantes :  14\n",
      "Nombre de valeurs du jeu de données :  392\n"
     ]
    }
   ],
   "source": [
    "# Drop des valeurs manquantes\n",
    "nb_ligne_origine = df_car.shape[0]\n",
    "df_car.dropna(how='any', inplace=True)\n",
    "\n",
    "print('Nombre de valeurs manquantes : ', nb_ligne_origine - df_car.shape[0])\n",
    "print('Nombre de valeurs du jeu de données : ', df_car.shape[0])\n",
    "\n",
    "# Vecteur des observations Yi\n",
    "mpg = df_car[\"mpg\"]\n",
    "\n",
    "# Centrage réduction des Yi et réassignement du dataframe normalisé dans mpg\n",
    "scaler_mpg = preprocessing.StandardScaler().fit(mpg.values.reshape(-1, 1))\n",
    "mpg = pd.DataFrame(data=scaler_mpg.transform(mpg.values.reshape(1, -1)))"
   ]
  },
  {
   "cell_type": "markdown",
   "metadata": {},
   "source": [
    "## 12) Calculer l'estimateur des moindres carrés θ̂ sur les 9 premières lignes"
   ]
  },
  {
   "cell_type": "code",
   "execution_count": 42,
   "metadata": {},
   "outputs": [
    {
     "name": "stdout",
     "output_type": "stream",
     "text": [
      "(0.19936701268572882, 'acceleration')\n",
      "(0.094530596162000061, 'horsepower')\n",
      "(0.054088475668277514, 'displacement')\n",
      "(0.0042407367063116569, 'weight')\n",
      "(0.0, 'model_year')\n",
      "(0.0, 'cylinders')\n"
     ]
    }
   ],
   "source": [
    "# Slicings\n",
    "df_car_12 = df_car.iloc[0:9, 1::]\n",
    "df_car_12.drop([\"car_name\", \"origin\"], axis=1, inplace=True)\n",
    "mpg_12 = df_car[\"mpg\"][0:9]\n",
    "\n",
    "# Modèle de Régression\n",
    "lr_car_12 = linear_model.LinearRegression(fit_intercept=True)\n",
    "lr_car_12.fit(df_car_12, mpg_12.values.reshape(-1, 1))\n",
    "\n",
    "# On classe les couples coefficients features par ordre croissant\n",
    "list_features = zip(abs(lr_car_12.coef_[0]), df_car_12.columns)\n",
    "\n",
    "# Affichage\n",
    "sort_list_features = (sorted(list(list_features), reverse=True))\n",
    "print(\"\\n\".join([str(x) for x in sort_list_features]))"
   ]
  },
  {
   "cell_type": "markdown",
   "metadata": {},
   "source": [
    "### Que constatez-vous pour les variables cylinders model year ?\n"
   ]
  },
  {
   "cell_type": "markdown",
   "metadata": {},
   "source": [
    "Les variables \"cylinders\" et \"model_year\" n'ont pas d'influence sur le modèle (coefficents nuls), ce qui est normal vu qu'elles sont identiques pour toutes les observations elles n'apportent donc aucune information "
   ]
  },
  {
   "cell_type": "markdown",
   "metadata": {},
   "source": [
    "## 13 ) Cette fois sur l'intégralité des données, après les avoir centrées et réduites.\n",
    "Quelles sont les deux variables qui expliquent le plus la consommation d'un véhicule ?"
   ]
  },
  {
   "cell_type": "code",
   "execution_count": 43,
   "metadata": {},
   "outputs": [
    {
     "name": "stdout",
     "output_type": "stream",
     "text": [
      "[(0.73944398644893838, 'weight'), (0.35556739894897599, 'model_year'), (0.10294694602680549, 'displacement'), (0.072090655791223854, 'cylinders'), (0.030141841853979778, 'acceleration'), (0.0019300083960402531, 'horsepower')]\n",
      "\n",
      "Les deux variables explicatives les plus significatives des consommations sont : \n",
      "*(0.73944398644893838, 'weight')  \n",
      "*(0.35556739894897599, 'model_year')\n"
     ]
    }
   ],
   "source": [
    "# Création du dataframe\n",
    "df_car_13 = df_car.copy()\n",
    "df_car_13.drop([\"origin\", \"mpg\", \"car_name\"], axis=1, inplace=True)\n",
    "\n",
    "# Centrage et réduction du jeu de données\n",
    "scaler_13 = preprocessing.StandardScaler().fit(df_car_13)\n",
    "car_13 = scaler_13.transform(df_car_13)\n",
    "\n",
    "# On réassigne les valeurs centrées réduites au dataframe d'origine\n",
    "df_car_13 = pd.DataFrame(data=scaler_13.transform(\n",
    "    df_car_13), columns=df_car_13.columns)\n",
    "\n",
    "# Modèle de Régression\n",
    "lr_car_13 = linear_model.LinearRegression(fit_intercept=False)\n",
    "lr_car_13.fit(df_car_13, mpg.values.reshape(-1, 1))\n",
    "\n",
    "\n",
    "# Trie et Affichage des coéfficients de régression\n",
    "features = zip(map(abs, lr_car_13.coef_[0]), df_car_13.columns)\n",
    "\n",
    "sorted_coef = sorted(features, reverse=True)\n",
    "print(sorted_coef)\n",
    "print(\"\\nLes deux variables explicatives les plus significatives des consommations sont : \\n*%s  \\n*%s\" %\n",
    "      (sorted_coef[0], sorted_coef[1]))"
   ]
  },
  {
   "cell_type": "markdown",
   "metadata": {},
   "source": [
    "## 14) Calculer la norme des résidus r2, puis vérifier numériquement que les résidus sont orthogonaux aux observations et que les prédictions  y^ sont les projections des observations dans l'espace des variables explicatives"
   ]
  },
  {
   "cell_type": "code",
   "execution_count": 44,
   "metadata": {},
   "outputs": [
    {
     "name": "stdout",
     "output_type": "stream",
     "text": [
      "Le carré de la norme des résidus vaut : 74.7719266969\n",
      "La normalisation par (n-p) du carré de la norme des résidus vaut :  0.193709654655\n",
      "\n",
      "Vérification numérique : \n",
      "392.0\n",
      "392.0\n",
      " -> Les valeurs sont-elles identiques :  True\n"
     ]
    }
   ],
   "source": [
    "# Calcul des résidus r2 et de leur norme au carré\n",
    "vect_residus = mpg.values.reshape(-1, 1) - lr_car_13.predict(df_car_13)\n",
    "carre_norm_residu = np.linalg.norm(vect_residus)**2\n",
    "\n",
    "# Affichage\n",
    "print(\"Le carré de la norme des résidus vaut :\", carre_norm_residu)\n",
    "\n",
    "n, p = df_car_13.shape\n",
    "carre_norm_residu_normalisé = carre_norm_residu / (n - p)\n",
    "print(\"La normalisation par (n-p) du carré de la norme des résidus vaut : \",\n",
    "      carre_norm_residu_normalisé)\n",
    "\n",
    "# Vérification numérique\n",
    "y = mpg.values\n",
    "y_chapeau = lr_car_13.predict(df_car_13)\n",
    "y_mean = mpg.values.mean()\n",
    "vect_y_mean = np.full(y.shape[0], fill_value=y_mean, dtype=np.dtype(float))\n",
    "\n",
    "# Norme carré des observations recentrées\n",
    "membre1 = np.linalg.norm(y - y_mean)**2\n",
    "# Normes carré des prédictions recentrées et des résidus carré\n",
    "membre2 = np.linalg.norm(y_chapeau - y_mean)**2 + carre_norm_residu\n",
    "\n",
    "# Affichage et conclusion\n",
    "print(\"\\nVérification numérique : \")\n",
    "print(np.linalg.norm(y - y_mean)**2)\n",
    "print(np.linalg.norm(y_chapeau - y_mean)**2 + carre_norm_residu)\n",
    "print(\" -> Les valeurs sont-elles identiques : \", np.isclose(membre1, membre2))"
   ]
  },
  {
   "cell_type": "markdown",
   "metadata": {},
   "source": [
    "## 15) Supposons que l'on vous fournisse les caractéristiques ci-après d'un nouveau véhicule\n"
   ]
  },
  {
   "cell_type": "code",
   "execution_count": 45,
   "metadata": {},
   "outputs": [
    {
     "name": "stdout",
     "output_type": "stream",
     "text": [
      "L'éstimation de la consommation vaut : 21.7762201826 pour 22 \n"
     ]
    }
   ],
   "source": [
    "# Prédiction des consommations pour X =[6,225,100,3233,15.4,76]\n",
    "X = np.asarray([[6, 225, 100, 3233, 15.4, 76], ])\n",
    "estim_conso = lr_car_13.predict(scaler_13.transform(X))[0]\n",
    "\n",
    "# Calcul inverse du centrage et de la réduction pour la prédiction\n",
    "estim_conso = scaler_mpg.inverse_transform(estim_conso)\n",
    "\n",
    "print(\"L'éstimation de la consommation vaut :\", estim_conso[0], 'pour 22 ')"
   ]
  },
  {
   "cell_type": "markdown",
   "metadata": {},
   "source": [
    "## 16) Utiliser la transformation PolynomialFeatures de sklearn sur les données brutes\n",
    "On normalisera et recentrera après avoir crée les nouvelles valeurs.\n",
    "Quelle est la variable la plus explicative de la consommation ?"
   ]
  },
  {
   "cell_type": "code",
   "execution_count": 46,
   "metadata": {},
   "outputs": [
    {
     "name": "stdout",
     "output_type": "stream",
     "text": [
      "La variable la plus explicative est celle dont la valeur absolue du coefficient est la plus grande soit : \n",
      " la variable \"displacement\" avec un coefficient de : 6.21342258773\n"
     ]
    }
   ],
   "source": [
    "# Création du Dataframe à partir du dataframe d'origine\n",
    "df_car_16 = df_car.copy()\n",
    "df_car_16.drop([\"origin\", \"car_name\", \"mpg\"], axis=1, inplace=True)\n",
    "\n",
    "# Création du polynome d'ordre 2 des features\n",
    "poly = sklearn.preprocessing.PolynomialFeatures(\n",
    "    2, interaction_only=False, include_bias=False)\n",
    "poly.fit_transform(df_car_16)\n",
    "\n",
    "# Données du polynome\n",
    "car_16 = poly.transform(df_car_16)\n",
    "\n",
    "# Centrage et réduction du jeu de donnée\n",
    "scaler_16 = preprocessing.StandardScaler().fit(car_16)\n",
    "df_car_16 = pd.DataFrame(data=scaler_16.transform(\n",
    "    car_16), columns=poly.get_feature_names(df_car_16.columns))\n",
    "\n",
    "# Modèle de régression\n",
    "lr_car_16 = linear_model.LinearRegression(fit_intercept=False)\n",
    "lr_car_16.fit(df_car_16, mpg.values.reshape(-1, 1))\n",
    "\n",
    "# Classement des coefficients\n",
    "list_features = zip(map(abs, lr_car_16.coef_[0]), df_car_16.columns)\n",
    "\n",
    "sorted_coef = sorted(list_features, reverse=True)\n",
    "print(\"La variable la plus explicative est celle dont la valeur absolue du coefficient est la plus grande soit : \\n la variable \\\"%s\\\" avec un coefficient de : %s\" %\n",
    "      (sorted_coef[0][1], sorted_coef[0][0]))"
   ]
  },
  {
   "cell_type": "markdown",
   "metadata": {
    "collapsed": true
   },
   "source": [
    "## 17 ) Modèle sans interactions avec l'origine des voitures. Proposez une manière de gérer la variable origin.\n",
    "Déterminez laquelle des trois origines est la plus efficace en terme de consommation."
   ]
  },
  {
   "cell_type": "code",
   "execution_count": 47,
   "metadata": {
    "scrolled": false
   },
   "outputs": [
    {
     "name": "stdout",
     "output_type": "stream",
     "text": [
      "Coefficient de comparaison des voitures Japonnais par rapport  aux Américaines : 0.333253817645\n",
      "Coefficient de comparaison des voitures Européennes par rapport aux Américaines : 0.2144396603\n",
      "Conclusion :\n",
      "Les Américaines consomment plus que les Japonaises et les Japonaises consomment plusque les Européennes \n",
      " -> Les Européennees sont les plus efficaces !\n"
     ]
    }
   ],
   "source": [
    "# Génère les dummies\n",
    "df_car_17 = pd.get_dummies(df_car, columns=[\"origin\"], drop_first=True)\n",
    "df_car_17.drop([\"car_name\", \"mpg\"], axis=1, inplace=True)\n",
    "\n",
    "# Centrage et réduction des données et réassignement au dataframe\n",
    "scaler_17 = preprocessing.StandardScaler().fit(df_car_17)\n",
    "df_car_17.replace(scaler_17.transform(df_car_17), 0)\n",
    "\n",
    "# Modèle de régression sans constante\n",
    "lr_car_17 = linear_model.LinearRegression(fit_intercept=False)\n",
    "lr_car_17.fit(df_car_17, mpg.values.reshape(-1, 1))\n",
    "\n",
    "# Coefficients de régression\n",
    "coeff = lr_car_17.coef_[0]\n",
    "\n",
    "print(\n",
    "    \"Coefficient de comparaison des voitures Japonnais par rapport  aux Américaines :\", coeff[-1])\n",
    "print(\n",
    "    \"Coefficient de comparaison des voitures Européennes par rapport aux Américaines :\", coeff[-2])\n",
    "print(\"Conclusion :\\nLes Américaines consomment plus que les Japonaises et les Japonaises consomment plusque les Européennes \\n -> Les Européennees sont les plus efficaces !\")"
   ]
  },
  {
   "cell_type": "markdown",
   "metadata": {},
   "source": [
    "## 18) Procéder comme pour la question précédente mais cette fois -ci pour mesurer l'influence de la marque de la voiture"
   ]
  },
  {
   "cell_type": "code",
   "execution_count": 48,
   "metadata": {
    "collapsed": true
   },
   "outputs": [],
   "source": [
    "###\n",
    "# \\xa0Nettoyage et assignation des données sur les Marques de voitures\n",
    "###\n",
    "\n",
    "# Fonction pour nettoyer les données de la marque des voitures\n",
    "def replace_df(df, column_name, list_tuple):\n",
    "    for t in list_tuple:\n",
    "        df[column_name] = df[column_name].str.replace(t[0], t[1])\n",
    "    return df\n",
    "\n",
    "\n",
    "# Liste des erreurs liées aux marques de voitures\n",
    "list_modifications = [(\"vokswagen\", \"volkswagen\"), (\"vw\", \"volkswagen\"), (\"mercedes-benz\", \"mercedes\"),\n",
    "                      (\"toyouta\", \"toyota\"), (\"maxda\", \"mazda\"), (\"chevroelt\", \"chevrolet\"), (\"chevy\", \"chevrolet\")]\n",
    "\n",
    "# Copy du dataset d'origine\n",
    "df_car_18 = df_car.copy()\n",
    "df_car_18.drop([\"origin\", \"mpg\"], axis=1, inplace=True)\n",
    "\n",
    "# Nettoyage des données sur les marques et split pour ne récupérer que le nom des marques\n",
    "df_car_18 = replace_df(df_car_18, \"car_name\", list_modifications)\n",
    "df_car_18[\"car_name\"] = df_car_18[\"car_name\"].str.strip().str.split(' ').str[0]\n",
    "\n",
    "# Transformation de la colonne en dummies\n",
    "df_car_18 = pd.get_dummies(df_car_18, columns=[\"car_name\"], drop_first=False)\n",
    "\n",
    "# Drop d'une marque au hasard\n",
    "df_car_18.drop(\"car_name_ford\", axis=1, inplace=True)"
   ]
  },
  {
   "cell_type": "code",
   "execution_count": 49,
   "metadata": {},
   "outputs": [
    {
     "name": "stdout",
     "output_type": "stream",
     "text": [
      "(0.15406085942040837, 'car_name_datsun')\n",
      "(0.12421379820113967, 'car_name_volkswagen')\n",
      "(0.10200364693597321, 'car_name_honda')\n",
      "(0.088383131838974505, 'car_name_toyota')\n",
      "(0.074970443659187119, 'car_name_fiat')\n",
      "(0.071378418588143769, 'car_name_plymouth')\n",
      "(0.058920146150534779, 'car_name_audi')\n",
      "(0.054986065247241797, 'car_name_mazda')\n",
      "(0.054677782769656638, 'car_name_pontiac')\n",
      "(0.054073002326959468, 'car_name_peugeot')\n",
      "(0.050623082829963605, 'car_name_triumph')\n",
      "(0.046625338538759172, 'car_name_dodge')\n",
      "(0.044130862765769531, 'car_name_mercedes')\n",
      "(0.041573952678537633, 'car_name_renault')\n",
      "(0.035450523187783051, 'car_name_oldsmobile')\n",
      "(0.03499233568825863, 'car_name_subaru')\n",
      "(0.034206386115645956, 'car_name_saab')\n",
      "(0.033873547135159728, 'car_name_nissan')\n",
      "(0.029458622114214413, 'car_name_cadillac')\n",
      "(0.025728838279175766, 'car_name_chevrolet')\n",
      "(0.024984179594879346, 'car_name_hi')\n",
      "(0.020863992219602563, 'car_name_opel')\n",
      "(0.01508020487782305, 'car_name_volvo')\n",
      "(0.014817715487263102, 'car_name_bmw')\n",
      "(0.014469541761752002, 'car_name_buick')\n",
      "(0.0059937169286808072, 'car_name_capri')\n",
      "(-0.0059793400168454214, 'car_name_mercury')\n",
      "(-0.0097146120355011446, 'car_name_chrysler')\n",
      "(-0.024035332719701565, 'car_name_amc')\n",
      "\n",
      "\n",
      "La marque de voiture ayant l'influence la plus délétère sur les consommations est la marque : AMC \n",
      "car son coefficient est celui qui diminue le plus la variable d'observation : MilesPerGallon\n"
     ]
    }
   ],
   "source": [
    "###\n",
    "# Modèle de régression\n",
    "###\n",
    "\n",
    "# On recentre et réduit les donnés\n",
    "scaler_18 = preprocessing.StandardScaler().fit(df_car_18)\n",
    "car_18 = scaler_18.transform(df_car_18)\n",
    "\n",
    "# On réassigne les valeurs centré réduite au dataframe d'origine\n",
    "df_car_18N = pd.DataFrame(data=car_18, columns=df_car_18.columns)\n",
    "\n",
    "# Modèle de Régression\n",
    "lr_car_18 = linear_model.LinearRegression(fit_intercept=False)\n",
    "lr_car_18.fit(df_car_18N, mpg.values.reshape(-1, 1))\n",
    "\n",
    "\n",
    "# Création des tuples (coefficient de regression, marques)\n",
    "list_features = zip(lr_car_18.coef_[0], df_car_18.columns)\n",
    "\n",
    "sort_list_features = (sorted(list(list_features)[6:], reverse=True))\n",
    "print(\"\\n\".join([str(x) for x in sort_list_features]))\n",
    "\n",
    "print(\"\\n\\nLa marque de voiture ayant l'influence la plus délétère sur les consommations est la marque :\",\n",
    "      sort_list_features[-1][1].replace(\"car_name_\", \"\").upper(), \"\\ncar son coefficient est celui qui diminue le plus la variable d'observation : MilesPerGallon\")"
   ]
  },
  {
   "cell_type": "markdown",
   "metadata": {},
   "source": [
    "## 19) Reprendre la matrice  X obtenue (sans variables catégorielles) de la question 13, obtenir numériquement la SVD.\n",
    "Vérifiez numériquement que H =UUt est un projecteur orthogonale"
   ]
  },
  {
   "cell_type": "code",
   "execution_count": 50,
   "metadata": {},
   "outputs": [
    {
     "name": "stdout",
     "output_type": "stream",
     "text": [
      "(392, 6) (6, 6) (6,)\n",
      "Vérification H2 = H : True\n",
      "Vérification H = H.transpose : True\n",
      "-> H est un projecteur orthogonal \n"
     ]
    }
   ],
   "source": [
    "# Copy de la dataframe 13 Centré Et Réduit sans variables catégorielles\n",
    "df_car_19 = df_car_13.copy()\n",
    "\n",
    "# Calcul des la décomposition en SVD de la matrice X de la question 13\n",
    "U, s, V = np.linalg.svd(df_car_19, full_matrices=False)\n",
    "print(U.shape, V.shape, s.shape)\n",
    "\n",
    "# Assignation des variables\n",
    "H = U.dot(U.transpose())\n",
    "H2 = H.dot(H)\n",
    "\n",
    "# Calcul des tests de projection\n",
    "test1 = np.allclose(H, H2)\n",
    "test2 = np.allclose(H, H.transpose())\n",
    "\n",
    "# Conclusion\n",
    "print(\"Vérification H2 = H :\", test1)\n",
    "print(\"Vérification H = H.transpose :\", test2)\n",
    "print(\"-> H est un projecteur orthogonal \" if test1 &\n",
    "      test2 else \"-> H n'est pas un projecteur orthogonal \")"
   ]
  },
  {
   "cell_type": "markdown",
   "metadata": {},
   "source": [
    "## 20) Ajoutez la diagonale de la matrice H à la base de donnée puis triez celle-ci en fonction de cette variable.\n",
    "Expliquer en quoi les voitures ayant les trois valeurs de \"leviers\" maximales semblent atypiques."
   ]
  },
  {
   "cell_type": "code",
   "execution_count": 51,
   "metadata": {},
   "outputs": [
    {
     "name": "stdout",
     "output_type": "stream",
     "text": [
      "              mpg   cylinders  displacement  horsepower       weight  \\\n",
      "count  392.000000  392.000000    392.000000  392.000000   392.000000   \n",
      "mean    23.445918    5.471939    194.411990  104.469388  2977.584184   \n",
      "std      7.805007    1.705783    104.644004   38.491160   849.402560   \n",
      "min      9.000000    3.000000     68.000000   46.000000  1613.000000   \n",
      "25%     17.000000    4.000000    105.000000   75.000000  2225.250000   \n",
      "50%     22.750000    4.000000    151.000000   93.500000  2803.500000   \n",
      "75%     29.000000    8.000000    275.750000  126.000000  3614.750000   \n",
      "max     46.600000    8.000000    455.000000  230.000000  5140.000000   \n",
      "\n",
      "       acceleration  model_year      origin  \n",
      "count    392.000000  392.000000  392.000000  \n",
      "mean      15.541327   75.979592    1.576531  \n",
      "std        2.758864    3.683737    0.805518  \n",
      "min        8.000000   70.000000    1.000000  \n",
      "25%       13.775000   73.000000    1.000000  \n",
      "50%       15.500000   76.000000    1.000000  \n",
      "75%       17.025000   79.000000    2.000000  \n",
      "max       24.800000   82.000000    3.000000  \n",
      "\n",
      "\n",
      "Les 3 voitures ayant les \"leviers\" les plus fort sont :\n",
      "      mpg  cylinders  displacement  horsepower  weight  acceleration  \\\n",
      "19  14.0        8.0         455.0       225.0  3086.0          10.0   \n",
      "34   9.0        8.0         304.0       193.0  4732.0          18.5   \n",
      "32  10.0        8.0         307.0       200.0  4376.0          15.0   \n",
      "\n",
      "    model_year  origin                 car_name   leviers  \n",
      "19        70.0     1.0  buick estate wagon (sw)  0.187359  \n",
      "34        70.0     1.0                 hi 1200d  0.084799  \n",
      "32        70.0     1.0                chevy c20  0.061549  \n"
     ]
    }
   ],
   "source": [
    "# Copy du dataframe de départ puis ajout de la nouvelle colonne explicatives\n",
    "df_car_20 = df_car.copy()\n",
    "\n",
    "# Rapelle des caratéristiques de l'échantillon\n",
    "print(df_car_20.describe())\n",
    "\n",
    "# Ajout de la colonne \"Levier\"\n",
    "df_car_20[\"leviers\"] = H.diagonal()\n",
    "\n",
    "# Les Trois leviers les plus forts\n",
    "print(\"\\n\\nLes 3 voitures ayant les \\\"leviers\\\" les plus fort sont :\\n\",\n",
    "      df_car_20.sort_values(by=\"leviers\", ascending=False)[:3])"
   ]
  },
  {
   "cell_type": "markdown",
   "metadata": {
    "collapsed": true
   },
   "source": [
    "Ces trois voitures (Index 19,34,32) semblent atypiques dans la mesure où leurs mpg sont très faibles. En effet, cela s'explique car elles sont toutes de 1970 (les plus anciennes) ce sont des américaines et elles sont plus lourdes que la moyenne.\n",
    "\n",
    "Or comme nous l'avons vu les moindres carrés sont très sensibles aux points atypiques (outlier) ce qui explique pourquoi leurs leviers sont maximaux."
   ]
  },
  {
   "cell_type": "code",
   "execution_count": 52,
   "metadata": {},
   "outputs": [
    {
     "data": {
      "text/html": [
       "<div>\n",
       "<style>\n",
       "    .dataframe thead tr:only-child th {\n",
       "        text-align: right;\n",
       "    }\n",
       "\n",
       "    .dataframe thead th {\n",
       "        text-align: left;\n",
       "    }\n",
       "\n",
       "    .dataframe tbody tr th {\n",
       "        vertical-align: top;\n",
       "    }\n",
       "</style>\n",
       "<table border=\"1\" class=\"dataframe\">\n",
       "  <thead>\n",
       "    <tr style=\"text-align: right;\">\n",
       "      <th></th>\n",
       "      <th>mpg</th>\n",
       "      <th>cylinders</th>\n",
       "      <th>displacement</th>\n",
       "      <th>horsepower</th>\n",
       "      <th>weight</th>\n",
       "      <th>acceleration</th>\n",
       "      <th>model_year</th>\n",
       "      <th>origin</th>\n",
       "      <th>leviers</th>\n",
       "    </tr>\n",
       "  </thead>\n",
       "  <tbody>\n",
       "    <tr>\n",
       "      <th>count</th>\n",
       "      <td>245.000000</td>\n",
       "      <td>245.000000</td>\n",
       "      <td>245.000000</td>\n",
       "      <td>245.00000</td>\n",
       "      <td>245.000000</td>\n",
       "      <td>245.000000</td>\n",
       "      <td>245.000000</td>\n",
       "      <td>245.0</td>\n",
       "      <td>245.000000</td>\n",
       "    </tr>\n",
       "    <tr>\n",
       "      <th>mean</th>\n",
       "      <td>20.033469</td>\n",
       "      <td>6.277551</td>\n",
       "      <td>247.512245</td>\n",
       "      <td>119.04898</td>\n",
       "      <td>3372.489796</td>\n",
       "      <td>14.990204</td>\n",
       "      <td>75.591837</td>\n",
       "      <td>1.0</td>\n",
       "      <td>0.016490</td>\n",
       "    </tr>\n",
       "    <tr>\n",
       "      <th>std</th>\n",
       "      <td>6.440384</td>\n",
       "      <td>1.655996</td>\n",
       "      <td>98.376347</td>\n",
       "      <td>39.89779</td>\n",
       "      <td>795.346690</td>\n",
       "      <td>2.736020</td>\n",
       "      <td>3.660368</td>\n",
       "      <td>0.0</td>\n",
       "      <td>0.015986</td>\n",
       "    </tr>\n",
       "    <tr>\n",
       "      <th>min</th>\n",
       "      <td>9.000000</td>\n",
       "      <td>4.000000</td>\n",
       "      <td>85.000000</td>\n",
       "      <td>52.00000</td>\n",
       "      <td>1800.000000</td>\n",
       "      <td>8.000000</td>\n",
       "      <td>70.000000</td>\n",
       "      <td>1.0</td>\n",
       "      <td>0.001825</td>\n",
       "    </tr>\n",
       "    <tr>\n",
       "      <th>25%</th>\n",
       "      <td>15.000000</td>\n",
       "      <td>4.000000</td>\n",
       "      <td>151.000000</td>\n",
       "      <td>88.00000</td>\n",
       "      <td>2720.000000</td>\n",
       "      <td>13.000000</td>\n",
       "      <td>73.000000</td>\n",
       "      <td>1.0</td>\n",
       "      <td>0.008565</td>\n",
       "    </tr>\n",
       "    <tr>\n",
       "      <th>50%</th>\n",
       "      <td>18.500000</td>\n",
       "      <td>6.000000</td>\n",
       "      <td>250.000000</td>\n",
       "      <td>105.00000</td>\n",
       "      <td>3381.000000</td>\n",
       "      <td>15.000000</td>\n",
       "      <td>76.000000</td>\n",
       "      <td>1.0</td>\n",
       "      <td>0.013054</td>\n",
       "    </tr>\n",
       "    <tr>\n",
       "      <th>75%</th>\n",
       "      <td>24.000000</td>\n",
       "      <td>8.000000</td>\n",
       "      <td>318.000000</td>\n",
       "      <td>150.00000</td>\n",
       "      <td>4055.000000</td>\n",
       "      <td>16.700000</td>\n",
       "      <td>78.000000</td>\n",
       "      <td>1.0</td>\n",
       "      <td>0.018805</td>\n",
       "    </tr>\n",
       "    <tr>\n",
       "      <th>max</th>\n",
       "      <td>39.000000</td>\n",
       "      <td>8.000000</td>\n",
       "      <td>455.000000</td>\n",
       "      <td>230.00000</td>\n",
       "      <td>5140.000000</td>\n",
       "      <td>22.200000</td>\n",
       "      <td>82.000000</td>\n",
       "      <td>1.0</td>\n",
       "      <td>0.187359</td>\n",
       "    </tr>\n",
       "  </tbody>\n",
       "</table>\n",
       "</div>"
      ],
      "text/plain": [
       "              mpg   cylinders  displacement  horsepower       weight  \\\n",
       "count  245.000000  245.000000    245.000000   245.00000   245.000000   \n",
       "mean    20.033469    6.277551    247.512245   119.04898  3372.489796   \n",
       "std      6.440384    1.655996     98.376347    39.89779   795.346690   \n",
       "min      9.000000    4.000000     85.000000    52.00000  1800.000000   \n",
       "25%     15.000000    4.000000    151.000000    88.00000  2720.000000   \n",
       "50%     18.500000    6.000000    250.000000   105.00000  3381.000000   \n",
       "75%     24.000000    8.000000    318.000000   150.00000  4055.000000   \n",
       "max     39.000000    8.000000    455.000000   230.00000  5140.000000   \n",
       "\n",
       "       acceleration  model_year  origin     leviers  \n",
       "count    245.000000  245.000000   245.0  245.000000  \n",
       "mean      14.990204   75.591837     1.0    0.016490  \n",
       "std        2.736020    3.660368     0.0    0.015986  \n",
       "min        8.000000   70.000000     1.0    0.001825  \n",
       "25%       13.000000   73.000000     1.0    0.008565  \n",
       "50%       15.000000   76.000000     1.0    0.013054  \n",
       "75%       16.700000   78.000000     1.0    0.018805  \n",
       "max       22.200000   82.000000     1.0    0.187359  "
      ]
     },
     "execution_count": 52,
     "metadata": {},
     "output_type": "execute_result"
    }
   ],
   "source": [
    "df_car_20[df_car_20[\"origin\"]==1].describe()"
   ]
  },
  {
   "cell_type": "code",
   "execution_count": null,
   "metadata": {
    "collapsed": true
   },
   "outputs": [],
   "source": []
  }
 ],
 "metadata": {
  "kernelspec": {
   "display_name": "Python 3",
   "language": "python",
   "name": "python3"
  },
  "language_info": {
   "codemirror_mode": {
    "name": "ipython",
    "version": 3
   },
   "file_extension": ".py",
   "mimetype": "text/x-python",
   "name": "python",
   "nbconvert_exporter": "python",
   "pygments_lexer": "ipython3",
   "version": "3.6.2"
  }
 },
 "nbformat": 4,
 "nbformat_minor": 2
}
