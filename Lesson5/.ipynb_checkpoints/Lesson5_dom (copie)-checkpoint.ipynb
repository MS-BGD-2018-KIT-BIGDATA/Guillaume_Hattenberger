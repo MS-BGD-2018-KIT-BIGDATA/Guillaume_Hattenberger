{
 "cells": [
  {
   "cell_type": "code",
   "execution_count": 3,
   "metadata": {
    "collapsed": true
   },
   "outputs": [],
   "source": [
    "import requests\n",
    "import pandas as pd\n",
    "import numpy as np\n",
    "import json\n",
    "import sys\n",
    "from bs4 import BeautifulSoup\n",
    "from bs4 import SoupStrainer\n",
    "import re\n",
    "from multiprocessing import Pool\n",
    "from multiprocessing import Process, Queue, Lock\n",
    "from functools import partial\n",
    "import multiprocessing"
   ]
  },
  {
   "cell_type": "code",
   "execution_count": 4,
   "metadata": {
    "collapsed": true
   },
   "outputs": [],
   "source": [
    "def getSoupFromURL(url, method='get', data={}):\n",
    "    if method == 'get':\n",
    "        res = requests.get(url)\n",
    "    elif method == 'post':\n",
    "        res = requests.post(url, data=data)\n",
    "    else:\n",
    "        return None\n",
    "\n",
    "    if res.status_code == 200:\n",
    "        soup = BeautifulSoup(res.text, 'html.parser')\n",
    "        return soup\n",
    "    else:\n",
    "        return None"
   ]
  },
  {
   "cell_type": "code",
   "execution_count": 5,
   "metadata": {},
   "outputs": [
    {
     "name": "stdout",
     "output_type": "stream",
     "text": [
      "km 13484\n",
      "annee 2013\n",
      "prix 8500 \n",
      "phone 0182714652\n",
      "version life\n",
      "type_charge charge+rapide\n"
     ]
    }
   ],
   "source": [
    "\n",
    "def extract_contents_from_result_page(soup):\n",
    "\n",
    "    list_href = []\n",
    "\n",
    "    contents = soup.find_all(\"span\", {\"class\": \"list-group-item medicament-item clearfix ng-scope\"})\n",
    "    print(len(contents))\n",
    "    #tr_ = soup.select(\"li a\")\n",
    "\n",
    "    for x in contents:\n",
    "        a = x.find('a', href=True)\n",
    "        # print(a['href'])\n",
    "        list_href.append(\"http:\" + a['href'])\n",
    "\n",
    "    # print(len(list_href))\n",
    "    return list_href\n",
    "\n",
    "\n",
    "def find_regex_from_balises(contents, balise, pattern):\n",
    "\n",
    "    for x in contents:\n",
    "        item = x.find_all(balise, text=re.compile(pattern))\n",
    "        if item:\n",
    "            # print(item[0].text)\n",
    "            return item[0].text.strip().replace(\" \",\"\")\n",
    "\n",
    "\n",
    "def test_regex(soup):\n",
    "    contents = soup.find_all(\"h2\", {\"class\": \"clearfix\"})\n",
    "    for x in contents:\n",
    "        # print(x.text)\n",
    "        item = x.find_all('span', text=re.compile(\"\\d+\\s?\\d+\\s+KM\"))\n",
    "\n",
    "        print(item)\n",
    "        if item:\n",
    "            print(item[0].text)\n",
    "\n",
    "\n",
    "def get_phone():\n",
    "\n",
    "    # get api key\n",
    "    contents = soup.find_all(\"h2\", {\"class\": \"clearfix\"})\n",
    "\n",
    "    return None\n",
    "\n",
    "\n",
    "def extract_features_from_ads(soup):\n",
    "\n",
    "    contents = soup.find_all(\"h2\", {\"class\": \"clearfix\"})\n",
    "\n",
    "    prix = find_regex_from_balises(contents, 'span', \"(\\d+\\s?\\d+\\s+)[€]\").replace(\"€\",\"\")\n",
    "    km = find_regex_from_balises(contents, 'span', \"\\d+\\s?\\d+\\s+KM\").replace(\"KM\",\"\")\n",
    "    annee = find_regex_from_balises(contents, 'span', \"\\s\\d{4}\\s\")\n",
    "    version=\"nose\"\n",
    "    type_charge=\"charge+rapide\"\n",
    "    \n",
    "    #get the description \n",
    "    contents = soup.find_all(\"p\", {\"id\": \"description\"})\n",
    "    description = \"\"\n",
    "    for x in contents:\n",
    "        description += (x.text).lower()\n",
    "\n",
    "    # try to extract tel from description if so\n",
    "    v = re.search(\"\\s?\\d{10}\", description)\n",
    "    phone = v.group(0)\n",
    "    c = re.search(\"\\btype\\b\\s+\\d\\s+\", description)\n",
    "    \n",
    "    if c is not None :\n",
    "        type_charge=\"charge+rapide+type+2\"\n",
    "   \n",
    "    if \"zen\" in description :\n",
    "        version=\"zen\"\n",
    "    elif \"life\" in description :\n",
    "        version=\"life\"\n",
    "    elif \"intens\" in description:\n",
    "        version=\"intens\"\n",
    "        \n",
    "    print(\"km\", km)\n",
    "    print(\"annee\", annee)\n",
    "    print(\"prix\", prix)\n",
    "    print(\"phone\", phone)\n",
    "    print(\"version\", version)\n",
    "    print(\"type_charge\", type_charge)\n",
    "    \n",
    "    return prix, annee, km, phone, version, type_charge\n",
    "\n",
    "#url = \"https://www.leboncoin.fr/voitures/1147612430.htm?ca=12_s\"\n",
    "\n",
    "#extract_features_from_ads(getSoupFromURL(url))"
   ]
  },
  {
   "cell_type": "code",
   "execution_count": 6,
   "metadata": {
    "collapsed": true
   },
   "outputs": [],
   "source": [
    "    phone = re.match"
   ]
  },
  {
   "cell_type": "code",
   "execution_count": 14,
   "metadata": {
    "collapsed": true
   },
   "outputs": [],
   "source": [
    "def crawl_results_page(region=\"ile_de_france\"):\n",
    "\n",
    "    list_particulier = []\n",
    "    list_pro = []\n",
    "\n",
    "    \n",
    "\n",
    "    for pro_toggle in range(0, 2):  # change page result from individual to pro\n",
    "\n",
    "        compteur_annonce = 0\n",
    "        current_page = 1\n",
    "        total_annonces = 1\n",
    "        #print(pro_toggle)\n",
    "        while(compteur_annonce < total_annonces):\n",
    "\n",
    "            url = generate_result_page_url(region,\n",
    "                                           page=current_page, professionnel=pro_toggle)\n",
    "            print(url)\n",
    "            soup = getSoupFromURL(url)\n",
    "\n",
    "            # 0 total | 1 Particulier  | 2 Professionnel\n",
    "            contents = soup.find_all(\n",
    "                \"span\", {\"class\": \"tabsSwitchNumbers small-hidden tiny-hidden\"})\n",
    "            if pro_toggle:\n",
    "                total_annonces = int(contents[2].text)\n",
    "            else:\n",
    "                total_annonces = int(contents[1].text)\n",
    "\n",
    "            tmp_list = extract_contents_from_result_page(soup)\n",
    "            compteur_annonce += len(tmp_list)\n",
    "            #print(compteur_annonce)\n",
    "            #print(\"total\", total_annonces)\n",
    "            current_page += 1\n",
    "\n",
    "            if pro_toggle:\n",
    "                list_pro+= tmp_list\n",
    "            else:\n",
    "                list_particulier += tmp_list\n",
    "\n",
    "    return list_pro, list_particulier"
   ]
  },
  {
   "cell_type": "code",
   "execution_count": 24,
   "metadata": {},
   "outputs": [
    {
     "name": "stdout",
     "output_type": "stream",
     "text": [
      "https://www.leboncoin.fr/voitures/offres/provence_alpes_cote_d_azur/?o=1&q=%20Renault%20Zo%E9&brd=Renault&mdl=Zoe&f=p\n",
      "https://www.leboncoin.fr/voitures/offres/provence_alpes_cote_d_azur/?o=1&q=%20Renault%20Zo%E9&brd=Renault&mdl=Zoe&f=c\n",
      "https://www.leboncoin.fr/voitures/offres/provence_alpes_cote_d_azur/?o=2&q=%20Renault%20Zo%E9&brd=Renault&mdl=Zoe&f=c\n",
      "https://www.leboncoin.fr/voitures/offres/ile_de_france/?o=1&q=%20Renault%20Zo%E9&brd=Renault&mdl=Zoe&f=p\n",
      "https://www.leboncoin.fr/voitures/offres/ile_de_france/?o=1&q=%20Renault%20Zo%E9&brd=Renault&mdl=Zoe&f=c\n",
      "https://www.leboncoin.fr/voitures/offres/ile_de_france/?o=2&q=%20Renault%20Zo%E9&brd=Renault&mdl=Zoe&f=c\n",
      "https://www.leboncoin.fr/voitures/offres/ile_de_france/?o=3&q=%20Renault%20Zo%E9&brd=Renault&mdl=Zoe&f=c\n",
      "https://www.leboncoin.fr/voitures/offres/aquitaine/?o=1&q=%20Renault%20Zo%E9&brd=Renault&mdl=Zoe&f=p\n",
      "https://www.leboncoin.fr/voitures/offres/aquitaine/?o=1&q=%20Renault%20Zo%E9&brd=Renault&mdl=Zoe&f=c\n",
      "http://www.leboncoin.fr/voitures/1322463732.htm?ca=21_s\n",
      "km 979\n",
      "annee 2016\n",
      "prix 10990 \n",
      "phone 0805805802\n",
      "version life\n",
      "type_charge charge+rapide\n"
     ]
    },
    {
     "ename": "TypeError",
     "evalue": "'NoneType' object is not iterable",
     "output_type": "error",
     "traceback": [
      "\u001b[0;31m---------------------------------------------------------------------------\u001b[0m",
      "\u001b[0;31mTypeError\u001b[0m                                 Traceback (most recent call last)",
      "\u001b[0;32m<ipython-input-24-30d74a2b55de>\u001b[0m in \u001b[0;36m<module>\u001b[0;34m()\u001b[0m\n\u001b[1;32m     44\u001b[0m     \u001b[0mprint\u001b[0m\u001b[0;34m(\u001b[0m\u001b[0mad\u001b[0m\u001b[0;34m[\u001b[0m\u001b[0;36m1\u001b[0m\u001b[0;34m]\u001b[0m\u001b[0;34m[\u001b[0m\u001b[0;34m\"url\"\u001b[0m\u001b[0;34m]\u001b[0m\u001b[0;34m)\u001b[0m\u001b[0;34m\u001b[0m\u001b[0m\n\u001b[1;32m     45\u001b[0m     \u001b[0msoup\u001b[0m \u001b[0;34m=\u001b[0m \u001b[0mgetSoupFromURL\u001b[0m\u001b[0;34m(\u001b[0m\u001b[0mad\u001b[0m\u001b[0;34m[\u001b[0m\u001b[0;36m1\u001b[0m\u001b[0;34m]\u001b[0m\u001b[0;34m[\u001b[0m\u001b[0;34m\"url\"\u001b[0m\u001b[0;34m]\u001b[0m\u001b[0;34m)\u001b[0m\u001b[0;34m\u001b[0m\u001b[0m\n\u001b[0;32m---> 46\u001b[0;31m     \u001b[0mprix\u001b[0m\u001b[0;34m,\u001b[0m \u001b[0mannee\u001b[0m\u001b[0;34m,\u001b[0m \u001b[0mkm\u001b[0m\u001b[0;34m,\u001b[0m \u001b[0mphone\u001b[0m\u001b[0;34m,\u001b[0m \u001b[0mversion\u001b[0m\u001b[0;34m,\u001b[0m \u001b[0mtype_charge\u001b[0m \u001b[0;34m=\u001b[0m \u001b[0mextract_features_from_ads\u001b[0m\u001b[0;34m(\u001b[0m\u001b[0msoup\u001b[0m\u001b[0;34m)\u001b[0m\u001b[0;34m\u001b[0m\u001b[0m\n\u001b[0m\u001b[1;32m     47\u001b[0m     \u001b[0mprint\u001b[0m\u001b[0;34m(\u001b[0m\u001b[0mprix\u001b[0m\u001b[0;34m)\u001b[0m\u001b[0;34m\u001b[0m\u001b[0m\n",
      "\u001b[0;31mTypeError\u001b[0m: 'NoneType' object is not iterable"
     ]
    }
   ],
   "source": [
    "def generate_result_page_url(region, page=1, professionnel=1):\n",
    "\n",
    "    url_root = \"https://www.leboncoin.fr/voitures/offres/\"\n",
    "\n",
    "    page = \"/?o=\" + str(page)\n",
    "    query = \"&q=%20Renault%20Zo%E9&brd=Renault&mdl=Zoe\"\n",
    "    particulier_pro = \"\"\n",
    "\n",
    "    if professionnel:\n",
    "        particulier_pro = \"&f=c\"\n",
    "    else:\n",
    "        particulier_pro = \"&f=p\"\n",
    "\n",
    "    return url_root + region + page + query + particulier_pro\n",
    "\n",
    "\n",
    "\n",
    "regions = [\"provence_alpes_cote_d_azur\", \"ile_de_france\", \"aquitaine\"]\n",
    "col =[ \"region\", \"pro\",\n",
    "                           \"version\", \"anne\", \"km\", \"prix\", \"tel\", \"cote\",\"url\"]\n",
    "\n",
    "df_global= pd.DataFrame(columns=col)\n",
    "\n",
    "\n",
    "for region in regions :\n",
    "    pro, particulier = crawl_results_page(region)\n",
    "# version ( il y en a 3), année, kilométrage, prix, téléphone du propriétaire,\n",
    "\n",
    "    df_p = pd.DataFrame(columns=col)\n",
    "    df_p[\"url\"] = pro\n",
    "    df_p[\"region\"] = region\n",
    "    df_p[\"pro\"] =1\n",
    "\n",
    "    df_i = pd.DataFrame(columns=col)\n",
    "    df_i[\"url\"] = particulier\n",
    "    df_i[\"region\"] = region\n",
    "    df_i[\"pro\"] =0\n",
    "\n",
    "\n",
    "    df_global= df_global.append(df_p.append(df_i, ignore_index=True), ignore_index=True)\n",
    "\n",
    "    \n",
    "for ad in df_global.iterrows() :\n",
    "    print(ad[1][\"url\"])\n",
    "    soup = getSoupFromURL(ad[1][\"url\"])\n",
    "    prix, annee, km, phone, version, type_charge = extract_features_from_ads(soup)\n",
    "    print(prix)"
   ]
  },
  {
   "cell_type": "code",
   "execution_count": null,
   "metadata": {
    "collapsed": true
   },
   "outputs": [],
   "source": []
  },
  {
   "cell_type": "code",
   "execution_count": null,
   "metadata": {
    "collapsed": true
   },
   "outputs": [],
   "source": []
  }
 ],
 "metadata": {
  "kernelspec": {
   "display_name": "Python 3",
   "language": "python",
   "name": "python3"
  },
  "language_info": {
   "codemirror_mode": {
    "name": "ipython",
    "version": 3
   },
   "file_extension": ".py",
   "mimetype": "text/x-python",
   "name": "python",
   "nbconvert_exporter": "python",
   "pygments_lexer": "ipython3",
   "version": "3.6.2"
  }
 },
 "nbformat": 4,
 "nbformat_minor": 2
}
